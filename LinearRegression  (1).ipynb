{
 "cells": [
  {
   "cell_type": "code",
   "execution_count": 1,
   "id": "e5fd89d6",
   "metadata": {},
   "outputs": [
    {
     "name": "stdout",
     "output_type": "stream",
     "text": [
      "examscore in  6 hrs is  78.0\n",
      "examscore in  7 hrs is  90.0\n",
      "examscore in  8 hrs is  102.0\n"
     ]
    }
   ],
   "source": [
    "from sklearn.linear_model import LinearRegression\n",
    "import numpy as np\n",
    "hrs = np.array([1,2,3,4,5]).reshape(-1,1)\n",
    "testscore = np.array([20,30,40,50,70])\n",
    "model = LinearRegression()\n",
    "model.fit(hrs,testscore)\n",
    "new_hrs = np.array([6,7,8]).reshape(-1,1)\n",
    "prediction = model.predict(new_hrs)\n",
    "for i,hrs in enumerate(new_hrs):\n",
    "    print(f\"examscore in \",hrs[0],\"hrs is \",prediction[i])"
   ]
  },
  {
   "cell_type": "code",
   "execution_count": null,
   "id": "ec21a823",
   "metadata": {},
   "outputs": [],
   "source": [
    "from sklearn.linear_model import LinearRegression\n",
    "import numpy as np\n",
    "import pandas as pd\n",
    "data = {\n",
    "    \"yearofexperience\":[1,2,3,4,5],\n",
    "    \"salary\":[20000,30000,40000,500000,60000],\n",
    "    \"position\":[\"low\",\"low\",\"mid\",\"mid\",\"senior\"]\n",
    "}\n",
    "df = pd.DataFrame(data)\n",
    "year_of_experience = 7\n",
    "position = \"senior\"\n",
    "model = LinearRegression()\n",
    "model.fit(df[[\"yearofexperience\"]],df[[\"salary\"]])\n",
    "new_employee = np.array([[year_of_experience]]).reshape(-1,1)\n",
    "prediction = model.predict(new_employee)\n",
    "print(prediction[0])"
   ]
  },
  {
   "cell_type": "code",
   "execution_count": 2,
   "id": "4d24b80a",
   "metadata": {},
   "outputs": [
    {
     "data": {
      "text/plain": [
       "1.0"
      ]
     },
     "execution_count": 2,
     "metadata": {},
     "output_type": "execute_result"
    }
   ],
   "source": [
    "from sklearn.linear_model import LinearRegression \n",
    "import numpy as np\n",
    "from sklearn.metrics import r2_score\n",
    "hrs = np.array([1,2,3,4,5]).reshape(-1,1)\n",
    "testscore = np.array([20,30,40,50,60])\n",
    "model = LinearRegression()\n",
    "model.fit(hrs,testscore)\n",
    "prediction = model.predict(hrs)\n",
    "prediction \n",
    "rsquare = r2_score(testscore,prediction)\n",
    "rsquare"
   ]
  },
  {
   "cell_type": "code",
   "execution_count": 3,
   "id": "4db8fd77",
   "metadata": {},
   "outputs": [
    {
     "name": "stdout",
     "output_type": "stream",
     "text": [
      "100 %\n"
     ]
    }
   ],
   "source": [
    "print(int(rsquare * 100),\"%\")"
   ]
  },
  {
   "cell_type": "code",
   "execution_count": null,
   "id": "0fe15a02",
   "metadata": {},
   "outputs": [],
   "source": []
  }
 ],
 "metadata": {
  "kernelspec": {
   "display_name": "Python 3 (ipykernel)",
   "language": "python",
   "name": "python3"
  },
  "language_info": {
   "codemirror_mode": {
    "name": "ipython",
    "version": 3
   },
   "file_extension": ".py",
   "mimetype": "text/x-python",
   "name": "python",
   "nbconvert_exporter": "python",
   "pygments_lexer": "ipython3",
   "version": "3.11.3"
  }
 },
 "nbformat": 4,
 "nbformat_minor": 5
}
