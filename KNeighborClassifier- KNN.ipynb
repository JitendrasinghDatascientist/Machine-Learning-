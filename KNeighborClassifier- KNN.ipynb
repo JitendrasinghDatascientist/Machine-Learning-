{
 "cells": [
  {
   "cell_type": "code",
   "execution_count": 2,
   "id": "7a0b01bf",
   "metadata": {},
   "outputs": [
    {
     "name": "stdout",
     "output_type": "stream",
     "text": [
      "he is a data Scientist!\n"
     ]
    }
   ],
   "source": [
    "from sklearn.neighbors import KNeighborsClassifier\n",
    "import numpy as np\n",
    "X = np.array([\n",
    "    [1,10000],\n",
    "    [2,20000],\n",
    "    [3,30000],\n",
    "    [4,40000],\n",
    "    [5,50000]])\n",
    "Y = np.array([1,0,1,0,1])\n",
    "knn = KNeighborsClassifier()\n",
    "knn.fit(X,Y)\n",
    "new_person = np.array([6,60000]).reshape(1,-1)\n",
    "prediction = knn.predict(new_person)\n",
    "if prediction==1:\n",
    "    print(\"he is a data Scientist!\")\n",
    "else:\n",
    "    print(\"he is a data Analyst!\")"
   ]
  },
  {
   "cell_type": "code",
   "execution_count": 4,
   "id": "297ec27c",
   "metadata": {},
   "outputs": [
    {
     "name": "stdout",
     "output_type": "stream",
     "text": [
      "he is a Non body builder!\n"
     ]
    },
    {
     "name": "stderr",
     "output_type": "stream",
     "text": [
      "C:\\Users\\jiten\\AppData\\Local\\Temp\\ipykernel_11816\\3343883444.py:18: FutureWarning: elementwise comparison failed; returning scalar instead, but in the future will perform elementwise comparison\n",
      "  if prediction==1:\n"
     ]
    }
   ],
   "source": [
    "from sklearn.neighbors import KNeighborsClassifier\n",
    "import numpy as np\n",
    "X = np.array([\n",
    "    [1,100],\n",
    "    [2,200],\n",
    "    [3,30],\n",
    "    [4,40],\n",
    "    [5,50]])\n",
    "Y = np.array([\"body builder\",\n",
    "             \"Non body builder\",\n",
    "             \"Non body builder\",\n",
    "             \"body builder\",\n",
    "             \"Non body builder\"])\n",
    "knn = KNeighborsClassifier()\n",
    "knn.fit(X,Y)\n",
    "new_person = np.array([6,60]).reshape(1,-1)\n",
    "prediction = knn.predict(new_person)\n",
    "if prediction==1:\n",
    "    print(\"he is a body builder!\")\n",
    "else:\n",
    "    print(\"he is a Non body builder!\")"
   ]
  },
  {
   "cell_type": "code",
   "execution_count": null,
   "id": "ff69981b",
   "metadata": {},
   "outputs": [],
   "source": []
  }
 ],
 "metadata": {
  "kernelspec": {
   "display_name": "Python 3 (ipykernel)",
   "language": "python",
   "name": "python3"
  },
  "language_info": {
   "codemirror_mode": {
    "name": "ipython",
    "version": 3
   },
   "file_extension": ".py",
   "mimetype": "text/x-python",
   "name": "python",
   "nbconvert_exporter": "python",
   "pygments_lexer": "ipython3",
   "version": "3.11.3"
  }
 },
 "nbformat": 4,
 "nbformat_minor": 5
}
