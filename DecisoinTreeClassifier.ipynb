{
 "cells": [
  {
   "cell_type": "code",
   "execution_count": 1,
   "id": "968dde97",
   "metadata": {},
   "outputs": [
    {
     "name": "stdout",
     "output_type": "stream",
     "text": [
      "Enter the number: 89\n",
      "this is the apple!\n"
     ]
    }
   ],
   "source": [
    "from sklearn import tree\n",
    "def fruitprediction(w):\n",
    "    weight = [[100],[200],[300],[400],[500]]\n",
    "    labels = [1,0,1,0,1]\n",
    "    clf = tree.DecisionTreeClassifier()\n",
    "    clf = clf.fit(weight,labels)\n",
    "    inp = [[w]]\n",
    "    prediction = clf.predict(inp)\n",
    "    return prediction \n",
    "w = int(input(\"Enter the number: \"))\n",
    "prediction = fruitprediction(w)\n",
    "if prediction==1:\n",
    "    print(\"this is the apple!\")\n",
    "else:\n",
    "    print(\"this is the orange!\")"
   ]
  },
  {
   "cell_type": "code",
   "execution_count": 2,
   "id": "3a27d41c",
   "metadata": {},
   "outputs": [
    {
     "name": "stdout",
     "output_type": "stream",
     "text": [
      "Enter the Temperature: 78\n",
      "Enter the Humidity: 89\n",
      "summer season!\n"
     ]
    }
   ],
   "source": [
    "from sklearn import tree\n",
    "def weatherprediction(w):\n",
    "    weather = [[20,30],[21,34],[25,56],[34,76],[45,89]]\n",
    "    labels = [1,0,1,0,1]\n",
    "    clf = tree.DecisionTreeClassifier()\n",
    "    clf = clf.fit(weather,labels)\n",
    "    inp = [w]\n",
    "    prediction = clf.predict(inp)\n",
    "    return prediction \n",
    "T = int(input(\"Enter the Temperature: \"))\n",
    "H = int(input(\"Enter the Humidity: \"))\n",
    "w = [T,H]\n",
    "prediction = weatherprediction(w)\n",
    "if prediction==1:\n",
    "    print(\"summer season!\")\n",
    "elif pediction==1:\n",
    "    print(\"winter season!\")\n",
    "else:\n",
    "    print(\"normal days\")"
   ]
  },
  {
   "cell_type": "code",
   "execution_count": null,
   "id": "39ad0c85",
   "metadata": {},
   "outputs": [],
   "source": []
  }
 ],
 "metadata": {
  "kernelspec": {
   "display_name": "Python 3 (ipykernel)",
   "language": "python",
   "name": "python3"
  },
  "language_info": {
   "codemirror_mode": {
    "name": "ipython",
    "version": 3
   },
   "file_extension": ".py",
   "mimetype": "text/x-python",
   "name": "python",
   "nbconvert_exporter": "python",
   "pygments_lexer": "ipython3",
   "version": "3.11.3"
  }
 },
 "nbformat": 4,
 "nbformat_minor": 5
}
